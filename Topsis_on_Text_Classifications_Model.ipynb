{
 "cells": [
  {
   "cell_type": "markdown",
   "metadata": {
    "id": "E8U4b86yWD5v"
   },
   "source": [
    "## Data Input "
   ]
  },
  {
   "cell_type": "code",
   "execution_count": 1,
   "metadata": {
    "colab": {
     "base_uri": "https://localhost:8080/"
    },
    "id": "vroAhSyNJZ51",
    "outputId": "4629e645-6781-44a9-d5c8-bb8e33edcdf8"
   },
   "outputs": [
    {
     "name": "stdout",
     "output_type": "stream",
     "text": [
      "Requirement already satisfied: transformers in c:\\users\\divyam\\anaconda3\\lib\\site-packages (4.28.0)\n",
      "Requirement already satisfied: datasets in c:\\users\\divyam\\anaconda3\\lib\\site-packages (2.11.0)\n",
      "Requirement already satisfied: evaluate in c:\\users\\divyam\\anaconda3\\lib\\site-packages (0.4.1)\n",
      "Requirement already satisfied: accelerate in c:\\users\\divyam\\anaconda3\\lib\\site-packages (0.26.1)\n",
      "Requirement already satisfied: numpy>=1.17 in c:\\users\\divyam\\anaconda3\\lib\\site-packages (from transformers) (1.23.5)\n",
      "Requirement already satisfied: tqdm>=4.27 in c:\\users\\divyam\\anaconda3\\lib\\site-packages (from transformers) (4.64.1)\n",
      "Requirement already satisfied: tokenizers!=0.11.3,<0.14,>=0.11.1 in c:\\users\\divyam\\anaconda3\\lib\\site-packages (from transformers) (0.13.3)\n",
      "Requirement already satisfied: huggingface-hub<1.0,>=0.11.0 in c:\\users\\divyam\\anaconda3\\lib\\site-packages (from transformers) (0.13.4)\n",
      "Requirement already satisfied: pyyaml>=5.1 in c:\\users\\divyam\\anaconda3\\lib\\site-packages (from transformers) (6.0)\n",
      "Requirement already satisfied: requests in c:\\users\\divyam\\anaconda3\\lib\\site-packages (from transformers) (2.28.1)\n",
      "Requirement already satisfied: regex!=2019.12.17 in c:\\users\\divyam\\anaconda3\\lib\\site-packages (from transformers) (2022.7.9)\n",
      "Requirement already satisfied: packaging>=20.0 in c:\\users\\divyam\\anaconda3\\lib\\site-packages (from transformers) (21.3)\n",
      "Requirement already satisfied: filelock in c:\\users\\divyam\\anaconda3\\lib\\site-packages (from transformers) (3.6.0)\n",
      "Requirement already satisfied: multiprocess in c:\\users\\divyam\\anaconda3\\lib\\site-packages (from datasets) (0.70.14)\n",
      "Requirement already satisfied: pandas in c:\\users\\divyam\\anaconda3\\lib\\site-packages (from datasets) (1.4.4)\n",
      "Requirement already satisfied: fsspec[http]>=2021.11.1 in c:\\users\\divyam\\anaconda3\\lib\\site-packages (from datasets) (2022.7.1)\n",
      "Requirement already satisfied: dill<0.3.7,>=0.3.0 in c:\\users\\divyam\\anaconda3\\lib\\site-packages (from datasets) (0.3.6)\n",
      "Requirement already satisfied: pyarrow>=8.0.0 in c:\\users\\divyam\\anaconda3\\lib\\site-packages (from datasets) (11.0.0)\n",
      "Requirement already satisfied: xxhash in c:\\users\\divyam\\anaconda3\\lib\\site-packages (from datasets) (3.2.0)\n",
      "Requirement already satisfied: responses<0.19 in c:\\users\\divyam\\anaconda3\\lib\\site-packages (from datasets) (0.18.0)\n",
      "Requirement already satisfied: aiohttp in c:\\users\\divyam\\anaconda3\\lib\\site-packages (from datasets) (3.8.4)\n",
      "Requirement already satisfied: torch>=1.10.0 in c:\\users\\divyam\\anaconda3\\lib\\site-packages (from accelerate) (2.0.0)\n",
      "Requirement already satisfied: psutil in c:\\users\\divyam\\anaconda3\\lib\\site-packages (from accelerate) (5.9.0)\n",
      "Requirement already satisfied: safetensors>=0.3.1 in c:\\users\\divyam\\anaconda3\\lib\\site-packages (from accelerate) (0.4.2)\n",
      "Requirement already satisfied: typing-extensions>=3.7.4.3 in c:\\users\\divyam\\anaconda3\\lib\\site-packages (from huggingface-hub<1.0,>=0.11.0->transformers) (4.3.0)\n",
      "Requirement already satisfied: pyparsing!=3.0.5,>=2.0.2 in c:\\users\\divyam\\anaconda3\\lib\\site-packages (from packaging>=20.0->transformers) (3.0.9)\n",
      "Requirement already satisfied: idna<4,>=2.5 in c:\\users\\divyam\\anaconda3\\lib\\site-packages (from requests->transformers) (3.3)\n",
      "Requirement already satisfied: charset-normalizer<3,>=2 in c:\\users\\divyam\\anaconda3\\lib\\site-packages (from requests->transformers) (2.0.4)\n",
      "Requirement already satisfied: certifi>=2017.4.17 in c:\\users\\divyam\\anaconda3\\lib\\site-packages (from requests->transformers) (2023.7.22)\n",
      "Requirement already satisfied: urllib3<1.27,>=1.21.1 in c:\\users\\divyam\\anaconda3\\lib\\site-packages (from requests->transformers) (1.26.11)\n",
      "Requirement already satisfied: sympy in c:\\users\\divyam\\anaconda3\\lib\\site-packages (from torch>=1.10.0->accelerate) (1.10.1)\n",
      "Requirement already satisfied: jinja2 in c:\\users\\divyam\\anaconda3\\lib\\site-packages (from torch>=1.10.0->accelerate) (2.11.3)\n",
      "Requirement already satisfied: networkx in c:\\users\\divyam\\anaconda3\\lib\\site-packages (from torch>=1.10.0->accelerate) (2.8.4)\n",
      "Requirement already satisfied: colorama in c:\\users\\divyam\\anaconda3\\lib\\site-packages (from tqdm>=4.27->transformers) (0.4.6)\n",
      "Requirement already satisfied: multidict<7.0,>=4.5 in c:\\users\\divyam\\anaconda3\\lib\\site-packages (from aiohttp->datasets) (6.0.4)\n",
      "Requirement already satisfied: attrs>=17.3.0 in c:\\users\\divyam\\anaconda3\\lib\\site-packages (from aiohttp->datasets) (21.4.0)\n",
      "Requirement already satisfied: aiosignal>=1.1.2 in c:\\users\\divyam\\anaconda3\\lib\\site-packages (from aiohttp->datasets) (1.3.1)\n",
      "Requirement already satisfied: frozenlist>=1.1.1 in c:\\users\\divyam\\anaconda3\\lib\\site-packages (from aiohttp->datasets) (1.3.3)\n",
      "Requirement already satisfied: yarl<2.0,>=1.0 in c:\\users\\divyam\\anaconda3\\lib\\site-packages (from aiohttp->datasets) (1.8.2)\n",
      "Requirement already satisfied: async-timeout<5.0,>=4.0.0a3 in c:\\users\\divyam\\anaconda3\\lib\\site-packages (from aiohttp->datasets) (4.0.2)\n",
      "Requirement already satisfied: pytz>=2020.1 in c:\\users\\divyam\\anaconda3\\lib\\site-packages (from pandas->datasets) (2022.1)\n",
      "Requirement already satisfied: python-dateutil>=2.8.1 in c:\\users\\divyam\\anaconda3\\lib\\site-packages (from pandas->datasets) (2.8.2)\n",
      "Requirement already satisfied: six>=1.5 in c:\\users\\divyam\\anaconda3\\lib\\site-packages (from python-dateutil>=2.8.1->pandas->datasets) (1.16.0)\n",
      "Requirement already satisfied: MarkupSafe>=0.23 in c:\\users\\divyam\\anaconda3\\lib\\site-packages (from jinja2->torch>=1.10.0->accelerate) (2.0.1)\n",
      "Requirement already satisfied: mpmath>=0.19 in c:\\users\\divyam\\anaconda3\\lib\\site-packages (from sympy->torch>=1.10.0->accelerate) (1.2.1)\n",
      "Note: you may need to restart the kernel to use updated packages.\n"
     ]
    }
   ],
   "source": [
    "pip install transformers datasets evaluate accelerate"
   ]
  },
  {
   "cell_type": "code",
   "execution_count": 1,
   "metadata": {},
   "outputs": [
    {
     "name": "stderr",
     "output_type": "stream",
     "text": [
      "c:\\Users\\Dell\\AppData\\Local\\Programs\\Python\\Python311\\Lib\\site-packages\\tqdm\\auto.py:21: TqdmWarning: IProgress not found. Please update jupyter and ipywidgets. See https://ipywidgets.readthedocs.io/en/stable/user_install.html\n",
      "  from .autonotebook import tqdm as notebook_tqdm\n"
     ]
    }
   ],
   "source": [
    "from datasets import load_dataset\n",
    "dataset = load_dataset(\"jakeazcona/short-text-labeled-emotion-classification\")"
   ]
  },
  {
   "cell_type": "code",
   "execution_count": 3,
   "metadata": {
    "colab": {
     "base_uri": "https://localhost:8080/"
    },
    "id": "ZIcBkBWPMZ5m",
    "outputId": "d5adbbed-363b-425e-db49-cc21a084206d"
   },
   "outputs": [
    {
     "data": {
      "text/plain": [
       "DatasetDict({\n",
       "    train: Dataset({\n",
       "        features: ['sample', 'label'],\n",
       "        num_rows: 24032\n",
       "    })\n",
       "    test: Dataset({\n",
       "        features: ['sample', 'label'],\n",
       "        num_rows: 6008\n",
       "    })\n",
       "    val_iron: Dataset({\n",
       "        features: ['sample', 'label'],\n",
       "        num_rows: 28\n",
       "    })\n",
       "    val_neg: Dataset({\n",
       "        features: ['sample', 'label'],\n",
       "        num_rows: 24\n",
       "    })\n",
       "})"
      ]
     },
     "execution_count": 3,
     "metadata": {},
     "output_type": "execute_result"
    }
   ],
   "source": [
    "dataset"
   ]
  },
  {
   "cell_type": "code",
   "execution_count": 4,
   "metadata": {
    "colab": {
     "base_uri": "https://localhost:8080/"
    },
    "id": "040KLWRpMfyO",
    "outputId": "ac00d148-92e2-4d3e-b303-e933ad3a65db"
   },
   "outputs": [
    {
     "data": {
      "text/plain": [
       "{'sample': 'i tend to be a window shopper when im alone because theres always going to be a self imposed limit of one or two when im feeling naughty',\n",
       " 'label': 3}"
      ]
     },
     "execution_count": 4,
     "metadata": {},
     "output_type": "execute_result"
    }
   ],
   "source": [
    "dataset[\"train\"][0]"
   ]
  },
  {
   "cell_type": "code",
   "execution_count": 5,
   "metadata": {
    "id": "U5wGr4XVM1kG"
   },
   "outputs": [],
   "source": [
    "train_data = dataset[\"train\"]"
   ]
  },
  {
   "cell_type": "code",
   "execution_count": 6,
   "metadata": {
    "colab": {
     "base_uri": "https://localhost:8080/"
    },
    "id": "UdfMAiNXM22D",
    "outputId": "60084dab-a676-4dd9-9e2f-d1af366c7cd0"
   },
   "outputs": [
    {
     "data": {
      "text/plain": [
       "Dataset({\n",
       "    features: ['sample', 'label'],\n",
       "    num_rows: 24032\n",
       "})"
      ]
     },
     "execution_count": 6,
     "metadata": {},
     "output_type": "execute_result"
    }
   ],
   "source": [
    "train_data"
   ]
  },
  {
   "cell_type": "code",
   "execution_count": 7,
   "metadata": {
    "id": "jSparEh0Q9Pm"
   },
   "outputs": [],
   "source": [
    "import pandas as pd"
   ]
  },
  {
   "cell_type": "code",
   "execution_count": 8,
   "metadata": {
    "id": "tvGhz0zINA67"
   },
   "outputs": [],
   "source": [
    "# Convert to Pandas DataFrame\n",
    "train_df = pd.DataFrame(train_data)"
   ]
  },
  {
   "cell_type": "code",
   "execution_count": 9,
   "metadata": {
    "colab": {
     "base_uri": "https://localhost:8080/",
     "height": 206
    },
    "id": "gLkkWCeGNDEy",
    "outputId": "1f42ae67-7a4d-471c-e1b4-fe02c75b9535"
   },
   "outputs": [
    {
     "data": {
      "text/html": [
       "<div>\n",
       "<style scoped>\n",
       "    .dataframe tbody tr th:only-of-type {\n",
       "        vertical-align: middle;\n",
       "    }\n",
       "\n",
       "    .dataframe tbody tr th {\n",
       "        vertical-align: top;\n",
       "    }\n",
       "\n",
       "    .dataframe thead th {\n",
       "        text-align: right;\n",
       "    }\n",
       "</style>\n",
       "<table border=\"1\" class=\"dataframe\">\n",
       "  <thead>\n",
       "    <tr style=\"text-align: right;\">\n",
       "      <th></th>\n",
       "      <th>sample</th>\n",
       "      <th>label</th>\n",
       "    </tr>\n",
       "  </thead>\n",
       "  <tbody>\n",
       "    <tr>\n",
       "      <th>0</th>\n",
       "      <td>i tend to be a window shopper when im alone be...</td>\n",
       "      <td>3</td>\n",
       "    </tr>\n",
       "    <tr>\n",
       "      <th>1</th>\n",
       "      <td>i will hopefully be able to feel less inhibite...</td>\n",
       "      <td>5</td>\n",
       "    </tr>\n",
       "    <tr>\n",
       "      <th>2</th>\n",
       "      <td>i feel very fond of my pinky kids</td>\n",
       "      <td>3</td>\n",
       "    </tr>\n",
       "    <tr>\n",
       "      <th>3</th>\n",
       "      <td>i feel like i had so much to write then got di...</td>\n",
       "      <td>0</td>\n",
       "    </tr>\n",
       "    <tr>\n",
       "      <th>4</th>\n",
       "      <td>i knew i was going to look at the mess and fee...</td>\n",
       "      <td>5</td>\n",
       "    </tr>\n",
       "  </tbody>\n",
       "</table>\n",
       "</div>"
      ],
      "text/plain": [
       "                                              sample  label\n",
       "0  i tend to be a window shopper when im alone be...      3\n",
       "1  i will hopefully be able to feel less inhibite...      5\n",
       "2                  i feel very fond of my pinky kids      3\n",
       "3  i feel like i had so much to write then got di...      0\n",
       "4  i knew i was going to look at the mess and fee...      5"
      ]
     },
     "execution_count": 9,
     "metadata": {},
     "output_type": "execute_result"
    }
   ],
   "source": [
    "train_df.head()"
   ]
  },
  {
   "cell_type": "code",
   "execution_count": 10,
   "metadata": {
    "colab": {
     "base_uri": "https://localhost:8080/",
     "height": 300
    },
    "id": "QVDZqS27G_2E",
    "outputId": "ceccb3cb-65e4-457b-b5a0-e1748883cae6"
   },
   "outputs": [
    {
     "data": {
      "text/html": [
       "<div>\n",
       "<style scoped>\n",
       "    .dataframe tbody tr th:only-of-type {\n",
       "        vertical-align: middle;\n",
       "    }\n",
       "\n",
       "    .dataframe tbody tr th {\n",
       "        vertical-align: top;\n",
       "    }\n",
       "\n",
       "    .dataframe thead th {\n",
       "        text-align: right;\n",
       "    }\n",
       "</style>\n",
       "<table border=\"1\" class=\"dataframe\">\n",
       "  <thead>\n",
       "    <tr style=\"text-align: right;\">\n",
       "      <th></th>\n",
       "      <th>label</th>\n",
       "    </tr>\n",
       "  </thead>\n",
       "  <tbody>\n",
       "    <tr>\n",
       "      <th>count</th>\n",
       "      <td>24032.000000</td>\n",
       "    </tr>\n",
       "    <tr>\n",
       "      <th>mean</th>\n",
       "      <td>2.603196</td>\n",
       "    </tr>\n",
       "    <tr>\n",
       "      <th>std</th>\n",
       "      <td>1.729178</td>\n",
       "    </tr>\n",
       "    <tr>\n",
       "      <th>min</th>\n",
       "      <td>0.000000</td>\n",
       "    </tr>\n",
       "    <tr>\n",
       "      <th>25%</th>\n",
       "      <td>1.000000</td>\n",
       "    </tr>\n",
       "    <tr>\n",
       "      <th>50%</th>\n",
       "      <td>2.000000</td>\n",
       "    </tr>\n",
       "    <tr>\n",
       "      <th>75%</th>\n",
       "      <td>4.000000</td>\n",
       "    </tr>\n",
       "    <tr>\n",
       "      <th>max</th>\n",
       "      <td>5.000000</td>\n",
       "    </tr>\n",
       "  </tbody>\n",
       "</table>\n",
       "</div>"
      ],
      "text/plain": [
       "              label\n",
       "count  24032.000000\n",
       "mean       2.603196\n",
       "std        1.729178\n",
       "min        0.000000\n",
       "25%        1.000000\n",
       "50%        2.000000\n",
       "75%        4.000000\n",
       "max        5.000000"
      ]
     },
     "execution_count": 10,
     "metadata": {},
     "output_type": "execute_result"
    }
   ],
   "source": [
    "train_df.describe()"
   ]
  },
  {
   "cell_type": "markdown",
   "metadata": {},
   "source": [
    "## Data Preprocessing"
   ]
  },
  {
   "cell_type": "code",
   "execution_count": 11,
   "metadata": {
    "id": "-E--C6_mHpXy"
   },
   "outputs": [],
   "source": [
    "# Assuming your original DataFrame is named train_df\n",
    "# Create separate DataFrames for label 0 and label 1\n",
    "label_0_df = train_df[train_df['label'] == 0].head(1500)\n",
    "label_1_df = train_df[train_df['label'] == 1].head(1500)\n",
    "label_2_df = train_df[train_df['label'] == 2].head(1500)\n",
    "label_3_df = train_df[train_df['label'] == 3].head(1500)\n",
    "label_4_df = train_df[train_df['label'] == 4].head(1500)\n",
    "label_5_df = train_df[train_df['label'] == 5].head(6500)\n",
    "\n",
    "# Concatenate the two DataFrames to create the new DataFrame\n",
    "SonaliData = pd.concat([label_0_df, label_1_df,label_2_df, label_3_df,label_4_df, label_5_df])\n",
    "\n",
    "# Shuffle the new DataFrame to randomize the order of rows\n",
    "SonaliData = SonaliData.sample(frac=1).reset_index(drop=True)"
   ]
  },
  {
   "cell_type": "code",
   "execution_count": 12,
   "metadata": {
    "colab": {
     "base_uri": "https://localhost:8080/",
     "height": 206
    },
    "id": "EWK7CB7PIAK4",
    "outputId": "4085d754-ed2e-4b28-e8e6-75d4606588ae"
   },
   "outputs": [
    {
     "data": {
      "text/html": [
       "<div>\n",
       "<style scoped>\n",
       "    .dataframe tbody tr th:only-of-type {\n",
       "        vertical-align: middle;\n",
       "    }\n",
       "\n",
       "    .dataframe tbody tr th {\n",
       "        vertical-align: top;\n",
       "    }\n",
       "\n",
       "    .dataframe thead th {\n",
       "        text-align: right;\n",
       "    }\n",
       "</style>\n",
       "<table border=\"1\" class=\"dataframe\">\n",
       "  <thead>\n",
       "    <tr style=\"text-align: right;\">\n",
       "      <th></th>\n",
       "      <th>sample</th>\n",
       "      <th>label</th>\n",
       "    </tr>\n",
       "  </thead>\n",
       "  <tbody>\n",
       "    <tr>\n",
       "      <th>0</th>\n",
       "      <td>i feel a loss for the precious lives that were...</td>\n",
       "      <td>2</td>\n",
       "    </tr>\n",
       "    <tr>\n",
       "      <th>1</th>\n",
       "      <td>i feel paranoid thinking about it just looking...</td>\n",
       "      <td>1</td>\n",
       "    </tr>\n",
       "    <tr>\n",
       "      <th>2</th>\n",
       "      <td>i feel totally lame but i have no idea what to...</td>\n",
       "      <td>5</td>\n",
       "    </tr>\n",
       "    <tr>\n",
       "      <th>3</th>\n",
       "      <td>That’s not munchausen. She has a diagnosed ill...</td>\n",
       "      <td>1</td>\n",
       "    </tr>\n",
       "    <tr>\n",
       "      <th>4</th>\n",
       "      <td>i feel the melancholy running my veins as well</td>\n",
       "      <td>5</td>\n",
       "    </tr>\n",
       "  </tbody>\n",
       "</table>\n",
       "</div>"
      ],
      "text/plain": [
       "                                              sample  label\n",
       "0  i feel a loss for the precious lives that were...      2\n",
       "1  i feel paranoid thinking about it just looking...      1\n",
       "2  i feel totally lame but i have no idea what to...      5\n",
       "3  That’s not munchausen. She has a diagnosed ill...      1\n",
       "4     i feel the melancholy running my veins as well      5"
      ]
     },
     "execution_count": 12,
     "metadata": {},
     "output_type": "execute_result"
    }
   ],
   "source": [
    "SonaliData.head()"
   ]
  },
  {
   "cell_type": "code",
   "execution_count": 13,
   "metadata": {
    "colab": {
     "base_uri": "https://localhost:8080/",
     "height": 300
    },
    "id": "6KZXezXQIFBh",
    "outputId": "53917f5f-9477-4281-aa5a-c08f84638e49"
   },
   "outputs": [
    {
     "data": {
      "text/html": [
       "<div>\n",
       "<style scoped>\n",
       "    .dataframe tbody tr th:only-of-type {\n",
       "        vertical-align: middle;\n",
       "    }\n",
       "\n",
       "    .dataframe tbody tr th {\n",
       "        vertical-align: top;\n",
       "    }\n",
       "\n",
       "    .dataframe thead th {\n",
       "        text-align: right;\n",
       "    }\n",
       "</style>\n",
       "<table border=\"1\" class=\"dataframe\">\n",
       "  <thead>\n",
       "    <tr style=\"text-align: right;\">\n",
       "      <th></th>\n",
       "      <th>label</th>\n",
       "    </tr>\n",
       "  </thead>\n",
       "  <tbody>\n",
       "    <tr>\n",
       "      <th>count</th>\n",
       "      <td>13423.000000</td>\n",
       "    </tr>\n",
       "    <tr>\n",
       "      <th>mean</th>\n",
       "      <td>3.323773</td>\n",
       "    </tr>\n",
       "    <tr>\n",
       "      <th>std</th>\n",
       "      <td>1.826657</td>\n",
       "    </tr>\n",
       "    <tr>\n",
       "      <th>min</th>\n",
       "      <td>0.000000</td>\n",
       "    </tr>\n",
       "    <tr>\n",
       "      <th>25%</th>\n",
       "      <td>2.000000</td>\n",
       "    </tr>\n",
       "    <tr>\n",
       "      <th>50%</th>\n",
       "      <td>4.000000</td>\n",
       "    </tr>\n",
       "    <tr>\n",
       "      <th>75%</th>\n",
       "      <td>5.000000</td>\n",
       "    </tr>\n",
       "    <tr>\n",
       "      <th>max</th>\n",
       "      <td>5.000000</td>\n",
       "    </tr>\n",
       "  </tbody>\n",
       "</table>\n",
       "</div>"
      ],
      "text/plain": [
       "              label\n",
       "count  13423.000000\n",
       "mean       3.323773\n",
       "std        1.826657\n",
       "min        0.000000\n",
       "25%        2.000000\n",
       "50%        4.000000\n",
       "75%        5.000000\n",
       "max        5.000000"
      ]
     },
     "execution_count": 13,
     "metadata": {},
     "output_type": "execute_result"
    }
   ],
   "source": [
    "SonaliData.describe()"
   ]
  },
  {
   "cell_type": "code",
   "execution_count": 14,
   "metadata": {
    "id": "gDRRLuV9UkWP"
   },
   "outputs": [],
   "source": [
    "#Preprocessing\n",
    "def preprocess_text(text):\n",
    "    # Convert to lowercase\n",
    "    text = text.lower()\n",
    "\n",
    "    # Remove punctuation\n",
    "    text = text.translate(str.maketrans('', '', string.punctuation))\n",
    "\n",
    "    # Tokenization\n",
    "    tokens = word_tokenize(text)\n",
    "\n",
    "    # Remove stopwords\n",
    "    stop_words = set(stopwords.words('english'))\n",
    "    tokens = [token for token in tokens if token not in stop_words]\n",
    "\n",
    "    # Lemmatization\n",
    "    lemmatizer = WordNetLemmatizer()\n",
    "    tokens = [lemmatizer.lemmatize(token) for token in tokens]\n",
    "\n",
    "    # Join the tokens back into a single string\n",
    "    preprocessed_text = ' '.join(tokens)\n",
    "\n",
    "    return preprocessed_text"
   ]
  },
  {
   "cell_type": "markdown",
   "metadata": {},
   "source": [
    "## Data Modeling"
   ]
  },
  {
   "cell_type": "code",
   "execution_count": 15,
   "metadata": {
    "id": "AQbvgZX-U1s_"
   },
   "outputs": [],
   "source": [
    "import string"
   ]
  },
  {
   "cell_type": "code",
   "execution_count": 2,
   "metadata": {
    "id": "GEaz4nu5U-3b"
   },
   "outputs": [
    {
     "name": "stderr",
     "output_type": "stream",
     "text": [
      "c:\\Users\\Dell\\AppData\\Local\\Programs\\Python\\Python311\\Lib\\site-packages\\tqdm\\auto.py:21: TqdmWarning: IProgress not found. Please update jupyter and ipywidgets. See https://ipywidgets.readthedocs.io/en/stable/user_install.html\n",
      "  from .autonotebook import tqdm as notebook_tqdm\n"
     ]
    }
   ],
   "source": [
    "import torch\n",
    "from transformers import BertForSequenceClassification, BertTokenizer, DistilBertForSequenceClassification, DistilBertTokenizer, RobertaForSequenceClassification, RobertaTokenizer, XLNetForSequenceClassification, XLNetTokenizer, AlbertForSequenceClassification, AlbertTokenizer\n",
    "from sklearn.model_selection import train_test_split\n",
    "from sklearn.metrics import accuracy_score, precision_score, recall_score, f1_score\n",
    "import pandas as pd\n",
    "import nltk\n",
    "from nltk.corpus import stopwords\n",
    "from nltk.tokenize import word_tokenize\n",
    "from nltk.stem import WordNetLemmatizer\n",
    "import string"
   ]
  },
  {
   "cell_type": "code",
   "execution_count": 3,
   "metadata": {
    "colab": {
     "base_uri": "https://localhost:8080/"
    },
    "id": "x_qMU1QrVJnv",
    "outputId": "6b325aa8-5b4f-4a89-b29c-cb4317c11a16"
   },
   "outputs": [
    {
     "name": "stderr",
     "output_type": "stream",
     "text": [
      "[nltk_data] Downloading package punkt to\n",
      "[nltk_data]     C:\\Users\\Dell\\AppData\\Roaming\\nltk_data...\n",
      "[nltk_data]   Package punkt is already up-to-date!\n",
      "[nltk_data] Downloading package stopwords to\n",
      "[nltk_data]     C:\\Users\\Dell\\AppData\\Roaming\\nltk_data...\n",
      "[nltk_data]   Package stopwords is already up-to-date!\n",
      "[nltk_data] Downloading package wordnet to\n",
      "[nltk_data]     C:\\Users\\Dell\\AppData\\Roaming\\nltk_data...\n",
      "[nltk_data]   Package wordnet is already up-to-date!\n"
     ]
    },
    {
     "data": {
      "text/plain": [
       "True"
      ]
     },
     "execution_count": 3,
     "metadata": {},
     "output_type": "execute_result"
    }
   ],
   "source": [
    "nltk.download('punkt')\n",
    "nltk.download('stopwords')\n",
    "nltk.download('wordnet')"
   ]
  },
  {
   "cell_type": "code",
   "execution_count": 18,
   "metadata": {
    "id": "2oTAltfNUws7"
   },
   "outputs": [],
   "source": [
    "SonaliData['sample'] = SonaliData['sample'].apply(preprocess_text)"
   ]
  },
  {
   "cell_type": "code",
   "execution_count": 19,
   "metadata": {
    "colab": {
     "base_uri": "https://localhost:8080/",
     "height": 206
    },
    "id": "uJcgUEaIVXRi",
    "outputId": "33f3831c-f24f-4fec-c374-b053694d37ef"
   },
   "outputs": [
    {
     "data": {
      "text/html": [
       "<div>\n",
       "<style scoped>\n",
       "    .dataframe tbody tr th:only-of-type {\n",
       "        vertical-align: middle;\n",
       "    }\n",
       "\n",
       "    .dataframe tbody tr th {\n",
       "        vertical-align: top;\n",
       "    }\n",
       "\n",
       "    .dataframe thead th {\n",
       "        text-align: right;\n",
       "    }\n",
       "</style>\n",
       "<table border=\"1\" class=\"dataframe\">\n",
       "  <thead>\n",
       "    <tr style=\"text-align: right;\">\n",
       "      <th></th>\n",
       "      <th>sample</th>\n",
       "      <th>label</th>\n",
       "    </tr>\n",
       "  </thead>\n",
       "  <tbody>\n",
       "    <tr>\n",
       "      <th>0</th>\n",
       "      <td>feel loss precious life taken mercilessly abom...</td>\n",
       "      <td>2</td>\n",
       "    </tr>\n",
       "    <tr>\n",
       "      <th>1</th>\n",
       "      <td>feel paranoid thinking looking window feeling ...</td>\n",
       "      <td>1</td>\n",
       "    </tr>\n",
       "    <tr>\n",
       "      <th>2</th>\n",
       "      <td>feel totally lame idea blog today</td>\n",
       "      <td>5</td>\n",
       "    </tr>\n",
       "    <tr>\n",
       "      <th>3</th>\n",
       "      <td>’ munchausen diagnosed illness ’ terrible terr...</td>\n",
       "      <td>1</td>\n",
       "    </tr>\n",
       "    <tr>\n",
       "      <th>4</th>\n",
       "      <td>feel melancholy running vein well</td>\n",
       "      <td>5</td>\n",
       "    </tr>\n",
       "  </tbody>\n",
       "</table>\n",
       "</div>"
      ],
      "text/plain": [
       "                                              sample  label\n",
       "0  feel loss precious life taken mercilessly abom...      2\n",
       "1  feel paranoid thinking looking window feeling ...      1\n",
       "2                  feel totally lame idea blog today      5\n",
       "3  ’ munchausen diagnosed illness ’ terrible terr...      1\n",
       "4                  feel melancholy running vein well      5"
      ]
     },
     "execution_count": 19,
     "metadata": {},
     "output_type": "execute_result"
    }
   ],
   "source": [
    "SonaliData.head()"
   ]
  },
  {
   "cell_type": "markdown",
   "metadata": {
    "id": "URbOYl7UsZOK"
   },
   "source": [
    "Now We have preprocessed our data, so Now we would pick any 5 models from hugging"
   ]
  },
  {
   "cell_type": "code",
   "execution_count": 20,
   "metadata": {
    "id": "2CeyZeaswbwh"
   },
   "outputs": [],
   "source": [
    "train_df, test_df = train_test_split(SonaliData, test_size=0.2, random_state=42)"
   ]
  },
  {
   "cell_type": "code",
   "execution_count": 21,
   "metadata": {
    "id": "bZqiG1H1wfpv"
   },
   "outputs": [],
   "source": [
    "# Define the model names\n",
    "model_names = [\"bert-base-uncased\", \"distilbert-base-uncased\", \"roberta-base\", \"albert-base-v2\", \"xlnet-base-cased\"]"
   ]
  },
  {
   "cell_type": "code",
   "execution_count": 22,
   "metadata": {
    "id": "GF-igLFowrD_"
   },
   "outputs": [],
   "source": [
    "from sklearn.metrics import classification_report, accuracy_score, precision_score, recall_score, f1_score, cohen_kappa_score\n",
    "from tqdm import tqdm\n",
    "import torch\n",
    "from transformers import AutoTokenizer, AutoModelForSequenceClassification"
   ]
  },
  {
   "cell_type": "code",
   "execution_count": 23,
   "metadata": {
    "id": "yFvSvaVS26ZU"
   },
   "outputs": [],
   "source": [
    "from tqdm import tqdm  # Import tqdm for progress bar"
   ]
  },
  {
   "cell_type": "code",
   "execution_count": 24,
   "metadata": {
    "id": "KmOTHjH2JEBl"
   },
   "outputs": [],
   "source": [
    "from sklearn.metrics import classification_report, accuracy_score, precision_score, recall_score, f1_score, log_loss, roc_auc_score"
   ]
  },
  {
   "cell_type": "code",
   "execution_count": 25,
   "metadata": {
    "id": "r6yaZMIv2_oW"
   },
   "outputs": [],
   "source": [
    "# Dictionary to store results\n",
    "results_dict = {}"
   ]
  },
  {
   "cell_type": "code",
   "execution_count": 26,
   "metadata": {
    "colab": {
     "base_uri": "https://localhost:8080/"
    },
    "id": "6J5aV1KNwlDQ",
    "outputId": "dc373718-3ff4-4e31-8fcb-2405d00dd930"
   },
   "outputs": [
    {
     "name": "stderr",
     "output_type": "stream",
     "text": [
      "Some weights of the model checkpoint at bert-base-uncased were not used when initializing BertForSequenceClassification: ['cls.seq_relationship.bias', 'cls.seq_relationship.weight', 'cls.predictions.transform.LayerNorm.weight', 'cls.predictions.transform.dense.bias', 'cls.predictions.bias', 'cls.predictions.transform.dense.weight', 'cls.predictions.transform.LayerNorm.bias']\n",
      "- This IS expected if you are initializing BertForSequenceClassification from the checkpoint of a model trained on another task or with another architecture (e.g. initializing a BertForSequenceClassification model from a BertForPreTraining model).\n",
      "- This IS NOT expected if you are initializing BertForSequenceClassification from the checkpoint of a model that you expect to be exactly identical (initializing a BertForSequenceClassification model from a BertForSequenceClassification model).\n",
      "Some weights of BertForSequenceClassification were not initialized from the model checkpoint at bert-base-uncased and are newly initialized: ['classifier.weight', 'classifier.bias']\n",
      "You should probably TRAIN this model on a down-stream task to be able to use it for predictions and inference.\n",
      "Training bert-base-uncased: 100%|████████████████████████████████████████████████████| 336/336 [12:34<00:00,  2.25s/it]\n"
     ]
    },
    {
     "name": "stdout",
     "output_type": "stream",
     "text": [
      "Model: bert-base-uncased\n",
      "Accuracy: 0.1162\n",
      "Precision (Weighted): 0.0277\n",
      "Recall (Weighted): 0.1162\n",
      "F1 Score (Weighted): 0.0415\n",
      "Cohen's Kappa: -0.0006\n",
      "==================================================\n"
     ]
    },
    {
     "name": "stderr",
     "output_type": "stream",
     "text": [
      "Some weights of the model checkpoint at distilbert-base-uncased were not used when initializing DistilBertForSequenceClassification: ['vocab_layer_norm.bias', 'vocab_layer_norm.weight', 'vocab_projector.bias', 'vocab_transform.bias', 'vocab_transform.weight']\n",
      "- This IS expected if you are initializing DistilBertForSequenceClassification from the checkpoint of a model trained on another task or with another architecture (e.g. initializing a BertForSequenceClassification model from a BertForPreTraining model).\n",
      "- This IS NOT expected if you are initializing DistilBertForSequenceClassification from the checkpoint of a model that you expect to be exactly identical (initializing a BertForSequenceClassification model from a BertForSequenceClassification model).\n",
      "Some weights of DistilBertForSequenceClassification were not initialized from the model checkpoint at distilbert-base-uncased and are newly initialized: ['classifier.weight', 'pre_classifier.weight', 'pre_classifier.bias', 'classifier.bias']\n",
      "You should probably TRAIN this model on a down-stream task to be able to use it for predictions and inference.\n",
      "Training distilbert-base-uncased: 100%|██████████████████████████████████████████████| 336/336 [05:59<00:00,  1.07s/it]\n"
     ]
    },
    {
     "name": "stdout",
     "output_type": "stream",
     "text": [
      "Model: distilbert-base-uncased\n",
      "Accuracy: 0.1184\n",
      "Precision (Weighted): 0.0287\n",
      "Recall (Weighted): 0.1184\n",
      "F1 Score (Weighted): 0.0391\n",
      "Cohen's Kappa: 0.0042\n",
      "==================================================\n"
     ]
    },
    {
     "name": "stderr",
     "output_type": "stream",
     "text": [
      "Some weights of the model checkpoint at roberta-base were not used when initializing RobertaForSequenceClassification: ['lm_head.layer_norm.bias', 'lm_head.dense.weight', 'lm_head.layer_norm.weight', 'lm_head.bias', 'lm_head.dense.bias']\n",
      "- This IS expected if you are initializing RobertaForSequenceClassification from the checkpoint of a model trained on another task or with another architecture (e.g. initializing a BertForSequenceClassification model from a BertForPreTraining model).\n",
      "- This IS NOT expected if you are initializing RobertaForSequenceClassification from the checkpoint of a model that you expect to be exactly identical (initializing a BertForSequenceClassification model from a BertForSequenceClassification model).\n",
      "Some weights of RobertaForSequenceClassification were not initialized from the model checkpoint at roberta-base and are newly initialized: ['classifier.dense.bias', 'classifier.out_proj.bias', 'classifier.out_proj.weight', 'classifier.dense.weight']\n",
      "You should probably TRAIN this model on a down-stream task to be able to use it for predictions and inference.\n",
      "Training roberta-base: 100%|█████████████████████████████████████████████████████████| 336/336 [11:45<00:00,  2.10s/it]\n"
     ]
    },
    {
     "name": "stdout",
     "output_type": "stream",
     "text": [
      "Model: roberta-base\n",
      "Accuracy: 0.1143\n",
      "Precision (Weighted): 0.0131\n",
      "Recall (Weighted): 0.1143\n",
      "F1 Score (Weighted): 0.0235\n",
      "Cohen's Kappa: 0.0000\n",
      "==================================================\n"
     ]
    },
    {
     "name": "stderr",
     "output_type": "stream",
     "text": [
      "Some weights of the model checkpoint at albert-base-v2 were not used when initializing AlbertForSequenceClassification: ['predictions.dense.bias', 'predictions.LayerNorm.bias', 'predictions.LayerNorm.weight', 'predictions.bias', 'predictions.dense.weight', 'predictions.decoder.bias']\n",
      "- This IS expected if you are initializing AlbertForSequenceClassification from the checkpoint of a model trained on another task or with another architecture (e.g. initializing a BertForSequenceClassification model from a BertForPreTraining model).\n",
      "- This IS NOT expected if you are initializing AlbertForSequenceClassification from the checkpoint of a model that you expect to be exactly identical (initializing a BertForSequenceClassification model from a BertForSequenceClassification model).\n",
      "Some weights of AlbertForSequenceClassification were not initialized from the model checkpoint at albert-base-v2 and are newly initialized: ['classifier.weight', 'classifier.bias']\n",
      "You should probably TRAIN this model on a down-stream task to be able to use it for predictions and inference.\n",
      "Training albert-base-v2: 100%|███████████████████████████████████████████████████████| 336/336 [14:46<00:00,  2.64s/it]\n"
     ]
    },
    {
     "name": "stdout",
     "output_type": "stream",
     "text": [
      "Model: albert-base-v2\n",
      "Accuracy: 0.1132\n",
      "Precision (Weighted): 0.0188\n",
      "Recall (Weighted): 0.1132\n",
      "F1 Score (Weighted): 0.0247\n",
      "Cohen's Kappa: -0.0013\n",
      "==================================================\n"
     ]
    },
    {
     "data": {
      "application/vnd.jupyter.widget-view+json": {
       "model_id": "6876067304e04c348c20c3719bfa7855",
       "version_major": 2,
       "version_minor": 0
      },
      "text/plain": [
       "Downloading pytorch_model.bin:   0%|          | 0.00/467M [00:00<?, ?B/s]"
      ]
     },
     "metadata": {},
     "output_type": "display_data"
    },
    {
     "name": "stderr",
     "output_type": "stream",
     "text": [
      "Some weights of the model checkpoint at xlnet-base-cased were not used when initializing XLNetForSequenceClassification: ['lm_loss.weight', 'lm_loss.bias']\n",
      "- This IS expected if you are initializing XLNetForSequenceClassification from the checkpoint of a model trained on another task or with another architecture (e.g. initializing a BertForSequenceClassification model from a BertForPreTraining model).\n",
      "- This IS NOT expected if you are initializing XLNetForSequenceClassification from the checkpoint of a model that you expect to be exactly identical (initializing a BertForSequenceClassification model from a BertForSequenceClassification model).\n",
      "Some weights of XLNetForSequenceClassification were not initialized from the model checkpoint at xlnet-base-cased and are newly initialized: ['logits_proj.weight', 'sequence_summary.summary.bias', 'logits_proj.bias', 'sequence_summary.summary.weight']\n",
      "You should probably TRAIN this model on a down-stream task to be able to use it for predictions and inference.\n",
      "Training xlnet-base-cased:   0%|                                                               | 0/336 [00:00<?, ?it/s]Asking to truncate to max_length but no maximum length is provided and the model has no predefined maximum length. Default to no truncation.\n",
      "Training xlnet-base-cased: 100%|█████████████████████████████████████████████████████| 336/336 [27:27<00:00,  4.90s/it]\n"
     ]
    },
    {
     "name": "stdout",
     "output_type": "stream",
     "text": [
      "Model: xlnet-base-cased\n",
      "Accuracy: 0.1091\n",
      "Precision (Weighted): 0.0240\n",
      "Recall (Weighted): 0.1091\n",
      "F1 Score (Weighted): 0.0358\n",
      "Cohen's Kappa: -0.0065\n",
      "==================================================\n"
     ]
    }
   ],
   "source": [
    "import warnings\n",
    "warnings.filterwarnings(\"ignore\")\n",
    "for model_name in model_names:\n",
    "    # Load tokenizer and model\n",
    "    tokenizer = AutoTokenizer.from_pretrained(model_name)\n",
    "    model = AutoModelForSequenceClassification.from_pretrained(model_name)\n",
    "\n",
    "    # Tokenize and prepare data\n",
    "    train_texts = train_df['sample'].tolist()\n",
    "    train_labels = train_df['label'].tolist()\n",
    "\n",
    "    # Use smaller batches for tokenization\n",
    "    batch_size = 32\n",
    "    num_batches = len(train_texts) // batch_size + (len(train_texts) % batch_size != 0)\n",
    "\n",
    "    predictions = []\n",
    "\n",
    "    # Use tqdm for a progress bar\n",
    "    for i in tqdm(range(num_batches), desc=f\"Training {model_name}\"):\n",
    "        start_idx = i * batch_size\n",
    "        end_idx = (i + 1) * batch_size\n",
    "        batch_texts = train_texts[start_idx:end_idx]\n",
    "        batch_labels = train_labels[start_idx:end_idx]\n",
    "\n",
    "        tokenized_data = tokenizer(batch_texts, padding=True, truncation=True, return_tensors=\"pt\")\n",
    "\n",
    "        with torch.no_grad():\n",
    "            logits = model(**tokenized_data).logits\n",
    "\n",
    "        batch_predictions = torch.argmax(logits, dim=1).tolist()\n",
    "        predictions.extend(batch_predictions)\n",
    "\n",
    "    # Evaluate the model on the test set\n",
    "    test_texts = test_df['sample'].tolist()\n",
    "    test_labels = test_df['label'].tolist()\n",
    "\n",
    "    tokenized_test_data = tokenizer(test_texts, padding=True, truncation=True, return_tensors=\"pt\")\n",
    "\n",
    "    with torch.no_grad():\n",
    "        logits = model(**tokenized_test_data).logits\n",
    "\n",
    "    predictions = torch.argmax(logits, dim=1).tolist()\n",
    "\n",
    "    # Store classification report and other metrics in the dictionary\n",
    "    classification_rep = classification_report(test_labels, predictions, output_dict=True)\n",
    "    accuracy = accuracy_score(test_labels, predictions)\n",
    "    precision_weighted = precision_score(test_labels, predictions, average='weighted')\n",
    "    recall_weighted = recall_score(test_labels, predictions, average='weighted')\n",
    "    f1_weighted = f1_score(test_labels, predictions, average='weighted')\n",
    "    kappa = cohen_kappa_score(test_labels, predictions)\n",
    "\n",
    "    results_dict[model_name] = {\n",
    "        \"classification_report\": classification_rep,\n",
    "        \"accuracy\": accuracy,\n",
    "        \"precision_weighted\": precision_weighted,\n",
    "        \"recall_weighted\": recall_weighted,\n",
    "        \"f1_weighted\": f1_weighted,\n",
    "        \"cohen_kappa\": kappa,\n",
    "    }\n",
    "\n",
    "    # Print metrics\n",
    "    print(f\"Model: {model_name}\")\n",
    "    print(f\"Accuracy: {accuracy:.4f}\")\n",
    "    print(f\"Precision (Weighted): {precision_weighted:.4f}\")\n",
    "    print(f\"Recall (Weighted): {recall_weighted:.4f}\")\n",
    "    print(f\"F1 Score (Weighted): {f1_weighted:.4f}\")\n",
    "    print(f\"Cohen's Kappa: {kappa:.4f}\")\n",
    "    print(\"=\" * 50)"
   ]
  },
  {
   "cell_type": "code",
   "execution_count": 27,
   "metadata": {},
   "outputs": [
    {
     "data": {
      "text/plain": [
       "{'bert-base-uncased': {'classification_report': {'0': {'precision': 0.12571428571428572,\n",
       "    'recall': 0.21498371335504887,\n",
       "    'f1-score': 0.15865384615384615,\n",
       "    'support': 307},\n",
       "   '1': {'precision': 0.11388888888888889,\n",
       "    'recall': 0.780952380952381,\n",
       "    'f1-score': 0.1987878787878788,\n",
       "    'support': 315},\n",
       "   '2': {'precision': 0.0, 'recall': 0.0, 'f1-score': 0.0, 'support': 305},\n",
       "   '3': {'precision': 0.0, 'recall': 0.0, 'f1-score': 0.0, 'support': 278},\n",
       "   '4': {'precision': 0.0, 'recall': 0.0, 'f1-score': 0.0, 'support': 285},\n",
       "   '5': {'precision': 0.0, 'recall': 0.0, 'f1-score': 0.0, 'support': 1195},\n",
       "   'accuracy': 0.11620111731843576,\n",
       "   'macro avg': {'precision': 0.03993386243386243,\n",
       "    'recall': 0.1659893490512383,\n",
       "    'f1-score': 0.059573620823620825,\n",
       "    'support': 2685},\n",
       "   'weighted avg': {'precision': 0.027735301942005856,\n",
       "    'recall': 0.11620111731843576,\n",
       "    'f1-score': 0.04146179239754658,\n",
       "    'support': 2685}},\n",
       "  'accuracy': 0.11620111731843576,\n",
       "  'precision_weighted': 0.027735301942005856,\n",
       "  'recall_weighted': 0.11620111731843576,\n",
       "  'f1_weighted': 0.04146179239754658,\n",
       "  'cohen_kappa': -0.0006054038774114812},\n",
       " 'distilbert-base-uncased': {'classification_report': {'0': {'precision': 0.11680067710537452,\n",
       "    'recall': 0.8990228013029316,\n",
       "    'f1-score': 0.20674157303370785,\n",
       "    'support': 307},\n",
       "   '1': {'precision': 0.13043478260869565,\n",
       "    'recall': 0.13333333333333333,\n",
       "    'f1-score': 0.13186813186813187,\n",
       "    'support': 315},\n",
       "   '2': {'precision': 0.0, 'recall': 0.0, 'f1-score': 0.0, 'support': 305},\n",
       "   '3': {'precision': 0.0, 'recall': 0.0, 'f1-score': 0.0, 'support': 278},\n",
       "   '4': {'precision': 0.0, 'recall': 0.0, 'f1-score': 0.0, 'support': 285},\n",
       "   '5': {'precision': 0.0, 'recall': 0.0, 'f1-score': 0.0, 'support': 1195},\n",
       "   'accuracy': 0.11843575418994413,\n",
       "   'macro avg': {'precision': 0.04120590995234503,\n",
       "    'recall': 0.1720593557727108,\n",
       "    'f1-score': 0.056434950816973285,\n",
       "    'support': 2685},\n",
       "   'weighted avg': {'precision': 0.028657267930387007,\n",
       "    'recall': 0.11843575418994413,\n",
       "    'f1-score': 0.03910917112097201,\n",
       "    'support': 2685}},\n",
       "  'accuracy': 0.11843575418994413,\n",
       "  'precision_weighted': 0.028657267930387007,\n",
       "  'recall_weighted': 0.11843575418994413,\n",
       "  'f1_weighted': 0.03910917112097201,\n",
       "  'cohen_kappa': 0.0042239900826560595},\n",
       " 'roberta-base': {'classification_report': {'0': {'precision': 0.11433891992551211,\n",
       "    'recall': 1.0,\n",
       "    'f1-score': 0.20521390374331552,\n",
       "    'support': 307},\n",
       "   '1': {'precision': 0.0, 'recall': 0.0, 'f1-score': 0.0, 'support': 315},\n",
       "   '2': {'precision': 0.0, 'recall': 0.0, 'f1-score': 0.0, 'support': 305},\n",
       "   '3': {'precision': 0.0, 'recall': 0.0, 'f1-score': 0.0, 'support': 278},\n",
       "   '4': {'precision': 0.0, 'recall': 0.0, 'f1-score': 0.0, 'support': 285},\n",
       "   '5': {'precision': 0.0, 'recall': 0.0, 'f1-score': 0.0, 'support': 1195},\n",
       "   'accuracy': 0.11433891992551211,\n",
       "   'macro avg': {'precision': 0.019056486654252018,\n",
       "    'recall': 0.16666666666666666,\n",
       "    'f1-score': 0.034202317290552585,\n",
       "    'support': 2685},\n",
       "   'weighted avg': {'precision': 0.013073388609732669,\n",
       "    'recall': 0.11433891992551211,\n",
       "    'f1-score': 0.023463936107708704,\n",
       "    'support': 2685}},\n",
       "  'accuracy': 0.11433891992551211,\n",
       "  'precision_weighted': 0.013073388609732669,\n",
       "  'recall_weighted': 0.11433891992551211,\n",
       "  'f1_weighted': 0.023463936107708704,\n",
       "  'cohen_kappa': 0.0},\n",
       " 'albert-base-v2': {'classification_report': {'0': {'precision': 0.11422087745839637,\n",
       "    'recall': 0.9837133550488599,\n",
       "    'f1-score': 0.20467638088783463,\n",
       "    'support': 307},\n",
       "   '1': {'precision': 0.04878048780487805,\n",
       "    'recall': 0.006349206349206349,\n",
       "    'f1-score': 0.011235955056179775,\n",
       "    'support': 315},\n",
       "   '2': {'precision': 0.0, 'recall': 0.0, 'f1-score': 0.0, 'support': 305},\n",
       "   '3': {'precision': 0.0, 'recall': 0.0, 'f1-score': 0.0, 'support': 278},\n",
       "   '4': {'precision': 0.0, 'recall': 0.0, 'f1-score': 0.0, 'support': 285},\n",
       "   '5': {'precision': 0.0, 'recall': 0.0, 'f1-score': 0.0, 'support': 1195},\n",
       "   'accuracy': 0.11322160148975792,\n",
       "   'macro avg': {'precision': 0.027166894210545734,\n",
       "    'recall': 0.1650104268996777,\n",
       "    'f1-score': 0.0359853893240024,\n",
       "    'support': 2685},\n",
       "   'weighted avg': {'precision': 0.018782742286131946,\n",
       "    'recall': 0.11322160148975792,\n",
       "    'f1-score': 0.024720660996373132,\n",
       "    'support': 2685}},\n",
       "  'accuracy': 0.11322160148975792,\n",
       "  'precision_weighted': 0.018782742286131946,\n",
       "  'recall_weighted': 0.11322160148975792,\n",
       "  'f1_weighted': 0.024720660996373132,\n",
       "  'cohen_kappa': -0.0013130027525600774},\n",
       " 'xlnet-base-cased': {'classification_report': {'0': {'precision': 0.11191011235955056,\n",
       "    'recall': 0.8110749185667753,\n",
       "    'f1-score': 0.19668246445497628,\n",
       "    'support': 307},\n",
       "   '1': {'precision': 0.09565217391304348,\n",
       "    'recall': 0.13968253968253969,\n",
       "    'f1-score': 0.1135483870967742,\n",
       "    'support': 315},\n",
       "   '2': {'precision': 0.0, 'recall': 0.0, 'f1-score': 0.0, 'support': 305},\n",
       "   '3': {'precision': 0.0, 'recall': 0.0, 'f1-score': 0.0, 'support': 278},\n",
       "   '4': {'precision': 0.0, 'recall': 0.0, 'f1-score': 0.0, 'support': 285},\n",
       "   '5': {'precision': 0.0, 'recall': 0.0, 'f1-score': 0.0, 'support': 1195},\n",
       "   'accuracy': 0.10912476722532588,\n",
       "   'macro avg': {'precision': 0.034593714378765676,\n",
       "    'recall': 0.15845957637488584,\n",
       "    'f1-score': 0.05170514192529174,\n",
       "    'support': 2685},\n",
       "   'weighted avg': {'precision': 0.024017444795899706,\n",
       "    'recall': 0.10912476722532588,\n",
       "    'f1-score': 0.035809779710674706,\n",
       "    'support': 2685}},\n",
       "  'accuracy': 0.10912476722532588,\n",
       "  'precision_weighted': 0.024017444795899706,\n",
       "  'recall_weighted': 0.10912476722532588,\n",
       "  'f1_weighted': 0.035809779710674706,\n",
       "  'cohen_kappa': -0.006467384916748253}}"
      ]
     },
     "execution_count": 27,
     "metadata": {},
     "output_type": "execute_result"
    }
   ],
   "source": [
    "results_dict"
   ]
  },
  {
   "cell_type": "markdown",
   "metadata": {},
   "source": [
    "### Converting dictionary to csv file"
   ]
  },
  {
   "cell_type": "code",
   "execution_count": 29,
   "metadata": {},
   "outputs": [
    {
     "name": "stdout",
     "output_type": "stream",
     "text": [
      "                         accuracy precision_weighted recall_weighted  \\\n",
      "bert-base-uncased        0.116201           0.027735        0.116201   \n",
      "distilbert-base-uncased  0.118436           0.028657        0.118436   \n",
      "roberta-base             0.114339           0.013073        0.114339   \n",
      "albert-base-v2           0.113222           0.018783        0.113222   \n",
      "xlnet-base-cased         0.109125           0.024017        0.109125   \n",
      "\n",
      "                        f1_weighted cohen_kappa  \n",
      "bert-base-uncased          0.041462   -0.000605  \n",
      "distilbert-base-uncased    0.039109    0.004224  \n",
      "roberta-base               0.023464         0.0  \n",
      "albert-base-v2             0.024721   -0.001313  \n",
      "xlnet-base-cased            0.03581   -0.006467  \n"
     ]
    }
   ],
   "source": [
    "import pandas as pd\n",
    "\n",
    "# Convert results_dict to a DataFrame\n",
    "results_df = pd.DataFrame(results_dict).T\n",
    "\n",
    "# Remove the first column\n",
    "results_df = results_df.iloc[:, 1:]\n",
    "\n",
    "# Save DataFrame to a CSV file\n",
    "results_df.to_csv('Final_results.csv')\n",
    "\n",
    "# Access results_df to get the evaluation results for each model\n",
    "print(results_df)"
   ]
  },
  {
   "cell_type": "markdown",
   "metadata": {},
   "source": [
    "### Now I have made the csv file that i will input in the package i made"
   ]
  },
  {
   "cell_type": "code",
   "execution_count": null,
   "metadata": {},
   "outputs": [],
   "source": [
    "pip install Topsis-Sonali-102116117"
   ]
  },
  {
   "cell_type": "code",
   "execution_count": null,
   "metadata": {},
   "outputs": [],
   "source": [
    "!topsis Final_results.csv \"1,1,1,1,1\" \"+,+,+,+,+\" answer.csv"
   ]
  },
  {
   "cell_type": "markdown",
   "metadata": {},
   "source": [
    "### Now I have made answer.csv file in which topsis result is stored now I would use it for plotting"
   ]
  },
  {
   "cell_type": "code",
   "execution_count": 7,
   "metadata": {},
   "outputs": [],
   "source": [
    "import pandas as pd"
   ]
  },
  {
   "cell_type": "code",
   "execution_count": 8,
   "metadata": {},
   "outputs": [],
   "source": [
    "FinalAnswer = pd.read_csv('answer.csv')"
   ]
  },
  {
   "cell_type": "code",
   "execution_count": 9,
   "metadata": {},
   "outputs": [
    {
     "data": {
      "text/html": [
       "<div>\n",
       "<style scoped>\n",
       "    .dataframe tbody tr th:only-of-type {\n",
       "        vertical-align: middle;\n",
       "    }\n",
       "\n",
       "    .dataframe tbody tr th {\n",
       "        vertical-align: top;\n",
       "    }\n",
       "\n",
       "    .dataframe thead th {\n",
       "        text-align: right;\n",
       "    }\n",
       "</style>\n",
       "<table border=\"1\" class=\"dataframe\">\n",
       "  <thead>\n",
       "    <tr style=\"text-align: right;\">\n",
       "      <th></th>\n",
       "      <th>Unnamed: 0</th>\n",
       "      <th>accuracy</th>\n",
       "      <th>precision_weighted</th>\n",
       "      <th>recall_weighted</th>\n",
       "      <th>f1_weighted</th>\n",
       "      <th>cohen_kappa</th>\n",
       "      <th>Topsis Score</th>\n",
       "      <th>Rank</th>\n",
       "    </tr>\n",
       "  </thead>\n",
       "  <tbody>\n",
       "    <tr>\n",
       "      <th>0</th>\n",
       "      <td>bert-base-uncased</td>\n",
       "      <td>0.116201</td>\n",
       "      <td>0.027735</td>\n",
       "      <td>0.116201</td>\n",
       "      <td>0.041462</td>\n",
       "      <td>-0.000605</td>\n",
       "      <td>0.424541</td>\n",
       "      <td>4.0</td>\n",
       "    </tr>\n",
       "    <tr>\n",
       "      <th>1</th>\n",
       "      <td>distilbert-base-uncased</td>\n",
       "      <td>0.118436</td>\n",
       "      <td>0.028657</td>\n",
       "      <td>0.118436</td>\n",
       "      <td>0.039109</td>\n",
       "      <td>0.004224</td>\n",
       "      <td>0.021643</td>\n",
       "      <td>5.0</td>\n",
       "    </tr>\n",
       "    <tr>\n",
       "      <th>2</th>\n",
       "      <td>roberta-base</td>\n",
       "      <td>0.114339</td>\n",
       "      <td>0.013073</td>\n",
       "      <td>0.114339</td>\n",
       "      <td>0.023464</td>\n",
       "      <td>0.000000</td>\n",
       "      <td>0.445177</td>\n",
       "      <td>3.0</td>\n",
       "    </tr>\n",
       "    <tr>\n",
       "      <th>3</th>\n",
       "      <td>albert-base-v2</td>\n",
       "      <td>0.113222</td>\n",
       "      <td>0.018783</td>\n",
       "      <td>0.113222</td>\n",
       "      <td>0.024721</td>\n",
       "      <td>-0.001313</td>\n",
       "      <td>0.534189</td>\n",
       "      <td>2.0</td>\n",
       "    </tr>\n",
       "    <tr>\n",
       "      <th>4</th>\n",
       "      <td>xlnet-base-cased</td>\n",
       "      <td>0.109125</td>\n",
       "      <td>0.024017</td>\n",
       "      <td>0.109125</td>\n",
       "      <td>0.035810</td>\n",
       "      <td>-0.006467</td>\n",
       "      <td>0.836544</td>\n",
       "      <td>1.0</td>\n",
       "    </tr>\n",
       "  </tbody>\n",
       "</table>\n",
       "</div>"
      ],
      "text/plain": [
       "                Unnamed: 0  accuracy  precision_weighted  recall_weighted  \\\n",
       "0        bert-base-uncased  0.116201            0.027735         0.116201   \n",
       "1  distilbert-base-uncased  0.118436            0.028657         0.118436   \n",
       "2             roberta-base  0.114339            0.013073         0.114339   \n",
       "3           albert-base-v2  0.113222            0.018783         0.113222   \n",
       "4         xlnet-base-cased  0.109125            0.024017         0.109125   \n",
       "\n",
       "   f1_weighted  cohen_kappa  Topsis Score  Rank  \n",
       "0     0.041462    -0.000605      0.424541   4.0  \n",
       "1     0.039109     0.004224      0.021643   5.0  \n",
       "2     0.023464     0.000000      0.445177   3.0  \n",
       "3     0.024721    -0.001313      0.534189   2.0  \n",
       "4     0.035810    -0.006467      0.836544   1.0  "
      ]
     },
     "execution_count": 9,
     "metadata": {},
     "output_type": "execute_result"
    }
   ],
   "source": [
    "FinalAnswer"
   ]
  },
  {
   "cell_type": "code",
   "execution_count": null,
   "metadata": {},
   "outputs": [],
   "source": [
    "## Graphs Plotting using matplotlib between my model(x axis) and Topsis score(y axis)"
   ]
  },
  {
   "cell_type": "code",
   "execution_count": 10,
   "metadata": {},
   "outputs": [],
   "source": [
    "import matplotlib.pyplot as plt\n",
    "import pandas as pd"
   ]
  },
  {
   "cell_type": "code",
   "execution_count": 17,
   "metadata": {},
   "outputs": [
    {
     "data": {
      "image/png": "[encoded data removed]",
      "text/plain": [
       "<Figure size 500x500 with 1 Axes>"
      ]
     },
     "metadata": {},
     "output_type": "display_data"
    }
   ],
   "source": [
    "# Assuming your DataFrame is named 'FinalAnswer'\n",
    "model_names = FinalAnswer['Unnamed: 0']\n",
    "topsis_scores = FinalAnswer['Topsis Score']\n",
    "\n",
    "# Plotting the bar graph\n",
    "plt.figure(figsize=(5,5))\n",
    "plt.bar(model_names, topsis_scores, color='blue')\n",
    "plt.xlabel('Model Name')\n",
    "plt.ylabel('Topsis Score')\n",
    "plt.title('Topsis Score evaluation for different text classification models')\n",
    "plt.xticks(rotation=45, ha='right')  # Rotate x-axis labels for better readability\n",
    "\n",
    "# Show the plot\n",
    "plt.tight_layout()\n",
    "plt.show()"
   ]
  },
  {
   "cell_type": "code",
   "execution_count": null,
   "metadata": {},
   "outputs": [],
   "source": [
    "## So I can conclude that xlnet-base-cased pretrained model works better on text classification for our dataset"
   ]
  }
 ],
 "metadata": {
  "colab": {
   "provenance": []
  },
  "kernelspec": {
   "display_name": "Python 3 (ipykernel)",
   "language": "python",
   "name": "python3"
  },
  "language_info": {
   "codemirror_mode": {
    "name": "ipython",
    "version": 3
   },
   "file_extension": ".py",
   "mimetype": "text/x-python",
   "name": "python",
   "nbconvert_exporter": "python",
   "pygments_lexer": "ipython3",
   "version": "3.11.4"
  }
 },
 "nbformat": 4,
 "nbformat_minor": 1
}
