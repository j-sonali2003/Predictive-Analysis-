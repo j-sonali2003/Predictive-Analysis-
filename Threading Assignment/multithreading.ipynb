{
 "cells": [
  {
   "cell_type": "markdown",
   "metadata": {},
   "source": [
    "# Step 1: Import all the necessary libraries"
   ]
  },
  {
   "cell_type": "code",
   "execution_count": 1,
   "metadata": {},
   "outputs": [],
   "source": [
    "import time\n",
    "import threading\n",
    "import random as r\n",
    "import numpy as np\n",
    "import matplotlib.pyplot as plt\n",
    "import pandas as pd"
   ]
  },
  {
   "cell_type": "markdown",
   "metadata": {},
   "source": [
    "# Step 2: Create a sample matrix for multiplication\n",
    "\n",
    "*We are creating one constant matrix which is an identity matrix. Rest all the 100 matrices will be randomly generated when multiplying*"
   ]
  },
  {
   "cell_type": "code",
   "execution_count": 2,
   "metadata": {},
   "outputs": [],
   "source": [
    "matrix1 = np.eye(1000)"
   ]
  },
  {
   "cell_type": "markdown",
   "metadata": {},
   "source": [
    "# Step 3: Define the task function\n",
    "\n",
    "*Our task is to multiply a random matrix with our constant identity matrix.*\n",
    "*We are creating a task function which does the exact same.*"
   ]
  },
  {
   "cell_type": "code",
   "execution_count": 3,
   "metadata": {},
   "outputs": [],
   "source": [
    "def task(matrix1):\n",
    "    matrix2 = np.random.rand(1000, 1000)\n",
    "    result = np.dot(matrix1, matrix2)\n",
    "    return"
   ]
  },
  {
   "cell_type": "markdown",
   "metadata": {},
   "source": [
    "# Step 4: Create a function to start the required number of threads\n",
    "\n",
    "*Since we are comparing the different results obtained after using different number of threads, we need to create a function that will start the required number of threads and return the time taken accordingly.*\n",
    "\n",
    "*We will also wait for all the threads to finish before moving on to the next task.*"
   ]
  },
  {
   "cell_type": "code",
   "execution_count": 4,
   "metadata": {},
   "outputs": [],
   "source": [
    "def thread_task(num_of_threads):\n",
    "    startTime = time.time()\n",
    "    activeThreads = threading.active_count()\n",
    "    \n",
    "    print(\"Program Started for\", num_of_threads, \"threads\")\n",
    "    \n",
    "    # Multiplying 100 matrices\n",
    "    for i in range(100):\n",
    "        t=threading.Thread(target=task, args=(matrix1,))\n",
    "        t.start()\n",
    "        while True:\n",
    "            if threading.active_count() - activeThreads + 1 <= num_of_threads:\n",
    "                break\n",
    "            time.sleep(1)\n",
    "    \n",
    "    # Wait for all the threads to finish\n",
    "    while True:\n",
    "        if threading.active_count() == activeThreads:\n",
    "            break\n",
    "        else:\n",
    "            print(\"Active Threads: \", threading.active_count())\n",
    "            print(\"Threads left:\", threading.active_count() - activeThreads)\n",
    "            time.sleep(1)\n",
    "            \n",
    "\n",
    "    print(\"Program Finished for\", num_of_threads, \"threads\")\n",
    "    print(\"Time taken: \", time.time()-startTime)\n",
    "    return time.time()-startTime"
   ]
  },
  {
   "cell_type": "markdown",
   "metadata": {},
   "source": [
    "# Step 5: Storing the results obtained\n",
    "\n",
    "*here, we are creating a dataframe that will store the time taken corresponding to the different thread counts. We are then calling the function for different number of threads and storing the result iteratively.*"
   ]
  },
  {
   "cell_type": "code",
   "execution_count": 5,
   "metadata": {},
   "outputs": [],
   "source": [
    "result = pd.DataFrame(columns=['Threads', 'Time (Sec)'])"
   ]
  },
  {
   "cell_type": "code",
   "execution_count": 6,
   "metadata": {},
   "outputs": [
    {
     "name": "stdout",
     "output_type": "stream",
     "text": [
      "Program Started for 1 threads\n",
      "Program Finished for 1 threads\n",
      "Time taken:  100.72315526008606\n",
      "\n",
      "\n",
      "Program Started for 2 threads\n",
      "Program Finished for 2 threads\n",
      "Time taken:  50.359437704086304\n",
      "\n",
      "\n",
      "Program Started for 3 threads\n",
      "Active Threads:  7\n",
      "Threads left: 1\n",
      "Program Finished for 3 threads\n",
      "Time taken:  34.29389429092407\n",
      "\n",
      "\n",
      "Program Started for 4 threads\n",
      "Program Finished for 4 threads\n",
      "Time taken:  25.201338291168213\n",
      "\n",
      "\n",
      "Program Started for 5 threads\n",
      "Program Finished for 5 threads\n",
      "Time taken:  20.169706344604492\n",
      "\n",
      "\n",
      "Program Started for 6 threads\n",
      "Active Threads:  10\n",
      "Threads left: 4\n",
      "Program Finished for 6 threads\n",
      "Time taken:  17.12649130821228\n",
      "\n",
      "\n",
      "Program Started for 7 threads\n",
      "Active Threads:  8\n",
      "Threads left: 2\n",
      "Program Finished for 7 threads\n",
      "Time taken:  15.155792474746704\n",
      "\n",
      "\n",
      "Program Started for 8 threads\n",
      "Active Threads:  10\n",
      "Threads left: 4\n",
      "Program Finished for 8 threads\n",
      "Time taken:  13.125009059906006\n",
      "\n",
      "\n",
      "Program Started for 9 threads\n",
      "Active Threads:  7\n",
      "Threads left: 1\n",
      "Program Finished for 9 threads\n",
      "Time taken:  12.158490896224976\n",
      "\n",
      "\n",
      "Program Started for 10 threads\n",
      "Program Finished for 10 threads\n",
      "Time taken:  10.13825249671936\n",
      "\n",
      "\n"
     ]
    }
   ],
   "source": [
    "for threads in range(1,11):\n",
    "    new_row = pd.DataFrame({'Threads': [int(threads)], 'Time (Sec)': [thread_task(threads)]})\n",
    "    result = pd.concat([result, new_row], ignore_index=True)\n",
    "    print(\"\\n\")"
   ]
  },
  {
   "cell_type": "code",
   "execution_count": 7,
   "metadata": {},
   "outputs": [
    {
     "data": {
      "text/html": [
       "<div>\n",
       "<style scoped>\n",
       "    .dataframe tbody tr th:only-of-type {\n",
       "        vertical-align: middle;\n",
       "    }\n",
       "\n",
       "    .dataframe tbody tr th {\n",
       "        vertical-align: top;\n",
       "    }\n",
       "\n",
       "    .dataframe thead th {\n",
       "        text-align: right;\n",
       "    }\n",
       "</style>\n",
       "<table border=\"1\" class=\"dataframe\">\n",
       "  <thead>\n",
       "    <tr style=\"text-align: right;\">\n",
       "      <th></th>\n",
       "      <th>Threads</th>\n",
       "      <th>Time (Sec)</th>\n",
       "    </tr>\n",
       "  </thead>\n",
       "  <tbody>\n",
       "    <tr>\n",
       "      <th>0</th>\n",
       "      <td>1</td>\n",
       "      <td>100.723155</td>\n",
       "    </tr>\n",
       "    <tr>\n",
       "      <th>1</th>\n",
       "      <td>2</td>\n",
       "      <td>50.359438</td>\n",
       "    </tr>\n",
       "    <tr>\n",
       "      <th>2</th>\n",
       "      <td>3</td>\n",
       "      <td>34.293894</td>\n",
       "    </tr>\n",
       "    <tr>\n",
       "      <th>3</th>\n",
       "      <td>4</td>\n",
       "      <td>25.201338</td>\n",
       "    </tr>\n",
       "    <tr>\n",
       "      <th>4</th>\n",
       "      <td>5</td>\n",
       "      <td>20.169706</td>\n",
       "    </tr>\n",
       "    <tr>\n",
       "      <th>5</th>\n",
       "      <td>6</td>\n",
       "      <td>17.126491</td>\n",
       "    </tr>\n",
       "    <tr>\n",
       "      <th>6</th>\n",
       "      <td>7</td>\n",
       "      <td>15.155792</td>\n",
       "    </tr>\n",
       "    <tr>\n",
       "      <th>7</th>\n",
       "      <td>8</td>\n",
       "      <td>13.125009</td>\n",
       "    </tr>\n",
       "    <tr>\n",
       "      <th>8</th>\n",
       "      <td>9</td>\n",
       "      <td>12.158491</td>\n",
       "    </tr>\n",
       "    <tr>\n",
       "      <th>9</th>\n",
       "      <td>10</td>\n",
       "      <td>10.138252</td>\n",
       "    </tr>\n",
       "  </tbody>\n",
       "</table>\n",
       "</div>"
      ],
      "text/plain": [
       "  Threads  Time (Sec)\n",
       "0       1  100.723155\n",
       "1       2   50.359438\n",
       "2       3   34.293894\n",
       "3       4   25.201338\n",
       "4       5   20.169706\n",
       "5       6   17.126491\n",
       "6       7   15.155792\n",
       "7       8   13.125009\n",
       "8       9   12.158491\n",
       "9      10   10.138252"
      ]
     },
     "execution_count": 7,
     "metadata": {},
     "output_type": "execute_result"
    }
   ],
   "source": [
    "result"
   ]
  },
  {
   "cell_type": "markdown",
   "metadata": {},
   "source": [
    "# Step 6: Analyzing the result\n",
    "\n",
    "*We will create a graph that will show the performance in terms of time taken with respect to the number of threads that were used.*"
   ]
  },
  {
   "cell_type": "code",
   "execution_count": 10,
   "metadata": {},
   "outputs": [
    {
     "data": {
      "text/html": [
       "<div>\n",
       "<style scoped>\n",
       "    .dataframe tbody tr th:only-of-type {\n",
       "        vertical-align: middle;\n",
       "    }\n",
       "\n",
       "    .dataframe tbody tr th {\n",
       "        vertical-align: top;\n",
       "    }\n",
       "\n",
       "    .dataframe thead th {\n",
       "        text-align: right;\n",
       "    }\n",
       "</style>\n",
       "<table border=\"1\" class=\"dataframe\">\n",
       "  <thead>\n",
       "    <tr style=\"text-align: right;\">\n",
       "      <th></th>\n",
       "      <th>0</th>\n",
       "      <th>1</th>\n",
       "      <th>2</th>\n",
       "      <th>3</th>\n",
       "      <th>4</th>\n",
       "      <th>5</th>\n",
       "      <th>6</th>\n",
       "      <th>7</th>\n",
       "      <th>8</th>\n",
       "      <th>9</th>\n",
       "    </tr>\n",
       "  </thead>\n",
       "  <tbody>\n",
       "    <tr>\n",
       "      <th>Threads</th>\n",
       "      <td>1.000000</td>\n",
       "      <td>2.000000</td>\n",
       "      <td>3.000000</td>\n",
       "      <td>4.000000</td>\n",
       "      <td>5.000000</td>\n",
       "      <td>6.000000</td>\n",
       "      <td>7.000000</td>\n",
       "      <td>8.000000</td>\n",
       "      <td>9.000000</td>\n",
       "      <td>10.000000</td>\n",
       "    </tr>\n",
       "    <tr>\n",
       "      <th>Time (Sec)</th>\n",
       "      <td>100.723155</td>\n",
       "      <td>50.359438</td>\n",
       "      <td>34.293894</td>\n",
       "      <td>25.201338</td>\n",
       "      <td>20.169706</td>\n",
       "      <td>17.126491</td>\n",
       "      <td>15.155792</td>\n",
       "      <td>13.125009</td>\n",
       "      <td>12.158491</td>\n",
       "      <td>10.138252</td>\n",
       "    </tr>\n",
       "  </tbody>\n",
       "</table>\n",
       "</div>"
      ],
      "text/plain": [
       "                     0          1          2          3          4          5  \\\n",
       "Threads       1.000000   2.000000   3.000000   4.000000   5.000000   6.000000   \n",
       "Time (Sec)  100.723155  50.359438  34.293894  25.201338  20.169706  17.126491   \n",
       "\n",
       "                    6          7          8          9  \n",
       "Threads      7.000000   8.000000   9.000000  10.000000  \n",
       "Time (Sec)  15.155792  13.125009  12.158491  10.138252  "
      ]
     },
     "execution_count": 10,
     "metadata": {},
     "output_type": "execute_result"
    }
   ],
   "source": [
    "result.T"
   ]
  },
  {
   "cell_type": "code",
   "execution_count": 11,
   "metadata": {},
   "outputs": [
    {
     "data": {
      "image/png": "[encoded data removed]",
      "text/plain": [
       "<Figure size 640x480 with 1 Axes>"
      ]
     },
     "metadata": {},
     "output_type": "display_data"
    }
   ],
   "source": [
    "# plot a graph of time taken vs number of threads\n",
    "plt.plot(result['Threads'], result['Time (Sec)'], marker='o', color='r', label='Time taken vs Number of threads')\n",
    "plt.xlabel('Number of threads')\n",
    "plt.ylabel('Time taken (s)')\n",
    "plt.title('Time taken vs Number of threads')\n",
    "plt.show()"
   ]
  },
  {
   "cell_type": "code",
   "execution_count": null,
   "metadata": {},
   "outputs": [],
   "source": []
  }
 ],
 "metadata": {
  "kernelspec": {
   "display_name": "Python 3",
   "language": "python",
   "name": "python3"
  },
  "language_info": {
   "codemirror_mode": {
    "name": "ipython",
    "version": 3
   },
   "file_extension": ".py",
   "mimetype": "text/x-python",
   "name": "python",
   "nbconvert_exporter": "python",
   "pygments_lexer": "ipython3",
   "version": "3.10.0"
  }
 },
 "nbformat": 4,
 "nbformat_minor": 2
}
